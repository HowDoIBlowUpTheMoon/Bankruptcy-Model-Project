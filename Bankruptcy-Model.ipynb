{
  "nbformat": 4,
  "nbformat_minor": 0,
  "metadata": {
    "colab": {
      "provenance": []
    },
    "kernelspec": {
      "name": "python3",
      "display_name": "Python 3"
    },
    "language_info": {
      "name": "python"
    }
  },
  "cells": [
    {
      "cell_type": "code",
      "source": [
        "# from google.colab import drive\n",
        "# drive.mount('/content/drive')"
      ],
      "metadata": {
        "id": "nDOd5mp9BpLm"
      },
      "execution_count": null,
      "outputs": []
    },
    {
      "cell_type": "code",
      "execution_count": 4,
      "metadata": {
        "id": "GWLdvWLT_It5",
        "colab": {
          "base_uri": "https://localhost:8080/",
          "height": 435
        },
        "outputId": "f4b47b40-01fc-4bf6-ee01-5f492f40fbb7"
      },
      "outputs": [
        {
          "output_type": "stream",
          "name": "stdout",
          "text": [
            "              precision    recall  f1-score   support\n",
            "\n",
            "           0       1.00      1.00      1.00      1976\n",
            "           1       1.00      1.00      1.00        70\n",
            "\n",
            "    accuracy                           1.00      2046\n",
            "   macro avg       1.00      1.00      1.00      2046\n",
            "weighted avg       1.00      1.00      1.00      2046\n",
            "\n"
          ]
        },
        {
          "output_type": "display_data",
          "data": {
            "text/plain": [
              "<Figure size 432x288 with 2 Axes>"
            ],
            "image/png": "[encoded data removed]"
          },
          "metadata": {
            "needs_background": "light"
          }
        }
      ],
      "source": [
        "# Import neccessary libraries\n",
        "import numpy as np\n",
        "import pandas as pd\n",
        "import matplotlib.pyplot as plt\n",
        "import sklearn as skt\n",
        "from sklearn.metrics import confusion_matrix, classification_report, ConfusionMatrixDisplay\n",
        "from sklearn.neighbors import KNeighborsClassifier\n",
        "from sklearn.model_selection import train_test_split\n",
        "from sklearn.neural_network import MLPClassifier\n",
        "from sklearn.ensemble import RandomForestClassifier\n",
        "\n",
        "# Import data file with bankrupcy data \n",
        "bD = pd.read_csv(\"drive/MyDrive/data.csv\")\n",
        "\n",
        "# Target the bankruptcy section in our data set\n",
        "target_feature = ['Bankrupt?']\n",
        "# Get the features from our list\n",
        "features = list(set(list(bD.columns))-set('Bankrupt?'))\n",
        "# Format our input and output features\n",
        "X = bD[features].values\n",
        "y = bD['Bankrupt?'].values\n",
        "y = np.ravel(y)\n",
        "\n",
        "#normalize data\n",
        "bD[features] = bD[features]/bD[features].max()\n",
        "\n",
        "# Feed the data into a function which splits the data set into train and test sets\n",
        "X_train, X_test, y_train, y_test = train_test_split(X, y, test_size = 0.3, random_state=40)\n",
        "nodes = len(bD.columns)\n",
        "\n",
        "# Set up a Random Forest Classifier model from numpy\n",
        "model = RandomForestClassifier(n_estimators=100)\n",
        "# Fit the model to the train input and its associated output\n",
        "model.fit(X_train, y_train)\n",
        "# Function which stores the prediction data\n",
        "predict_test = model.predict(X_test)\n",
        "\n",
        "# Set up the confusion matrix\n",
        "cm = confusion_matrix(y_test, predict_test)\n",
        "# Display confusion matrix\n",
        "# Display the stats related to the model\n",
        "disp = ConfusionMatrixDisplay(confusion_matrix=cm)\n",
        "disp.plot()\n",
        "print(classification_report(y_test, predict_test))\n"
      ]
    },
    {
      "cell_type": "markdown",
      "source": [
        "# New Section"
      ],
      "metadata": {
        "id": "gOzWZp46km0V"
      }
    }
  ]
}
